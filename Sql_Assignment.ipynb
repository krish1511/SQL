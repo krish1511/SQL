{
 "cells": [
  {
   "cell_type": "code",
   "execution_count": 2,
   "metadata": {},
   "outputs": [],
   "source": [
    "import sqlite3\n",
    "import warnings\n",
    "warnings.filterwarnings(\"ignore\")\n",
    "import pandas as pd\n",
    "import numpy as np"
   ]
  },
  {
   "cell_type": "code",
   "execution_count": 9,
   "metadata": {},
   "outputs": [],
   "source": [
    "connection = sqlite3.connect('./Db-IMDB.db')"
   ]
  },
  {
   "cell_type": "markdown",
   "metadata": {},
   "source": [
    "**1) List all the directors who directed a 'Comedy' movie in a leap year. (You need to check that\n",
    "the genre is 'Comedy’ and year is a leap year) Your query should return director name, the\n",
    "movie name, and the year.**"
   ]
  },
  {
   "cell_type": "code",
   "execution_count": 30,
   "metadata": {},
   "outputs": [
    {
     "name": "stdout",
     "output_type": "stream",
     "text": [
      "                 Directors                                  Genre  \\\n",
      "0           Anurag Kashyap      Action, Comedy, Crime               \n",
      "1           Anurag Kashyap      Action, Comedy, Crime               \n",
      "2              Abhinay Deo      Action, Comedy, Crime               \n",
      "3              Abhinay Deo      Action, Comedy, Crime               \n",
      "4             Priyadarshan      Action, Comedy, Crime               \n",
      "5             Anees Bazmee      Action, Comedy, Crime               \n",
      "6             Anees Bazmee      Action, Comedy, Crime               \n",
      "7               Raj Kanwar      Action, Comedy, Crime               \n",
      "8               Raj Kanwar      Action, Comedy, Crime               \n",
      "9            Prakash Mehra      Action, Comedy, Crime               \n",
      "10           Prakash Mehra      Action, Comedy, Crime               \n",
      "11            Anees Bazmee      Action, Comedy, Crime               \n",
      "12            Anees Bazmee      Action, Comedy, Crime               \n",
      "13    Deepak S. Shivdasani      Action, Comedy, Crime               \n",
      "14    Deepak S. Shivdasani      Action, Comedy, Crime               \n",
      "15            Naresh Kumar      Action, Comedy, Crime               \n",
      "16            Naresh Kumar      Action, Comedy, Crime               \n",
      "17           Eeshwar Nivas      Action, Comedy, Crime               \n",
      "18           Eeshwar Nivas      Action, Comedy, Crime               \n",
      "19            Rajat Kapoor    Comedy, Crime, Thriller               \n",
      "20            Rajat Kapoor    Comedy, Crime, Thriller               \n",
      "21            Gauri Shinde      Comedy, Drama, Family               \n",
      "22            Gauri Shinde      Comedy, Drama, Family               \n",
      "23            Ramesh Sippy      Comedy, Drama, Family               \n",
      "24            Ramesh Sippy      Comedy, Drama, Family               \n",
      "25            Vivek Sharma      Comedy, Drama, Family               \n",
      "26    Hrishikesh Mukherjee      Comedy, Drama, Family               \n",
      "27    Hrishikesh Mukherjee      Comedy, Drama, Family               \n",
      "28         Rajesh Mapuskar      Comedy, Drama, Family               \n",
      "29         Rajesh Mapuskar      Comedy, Drama, Family               \n",
      "..                     ...                                    ...   \n",
      "385           Rajat Kapoor   Comedy, Fantasy, Romance               \n",
      "386           Rajat Kapoor   Comedy, Fantasy, Romance               \n",
      "387           Rumi Jaffery            Comedy, Fantasy               \n",
      "388           Rumi Jaffery            Comedy, Fantasy               \n",
      "389   Hrishikesh Mukherjee     Comedy, Musical, Drama               \n",
      "390   Hrishikesh Mukherjee     Comedy, Musical, Drama               \n",
      "391            Indra Kumar     Comedy, Crime, Mystery               \n",
      "392            Indra Kumar     Comedy, Crime, Mystery               \n",
      "393           Rohit Shetty    Action, Comedy, Mystery               \n",
      "394           Rohit Shetty    Action, Comedy, Mystery               \n",
      "395           Sachin Yardi    Comedy, Drama, Thriller               \n",
      "396        Basu Chatterjee      Drama, Family, Comedy               \n",
      "397        Basu Chatterjee      Drama, Family, Comedy               \n",
      "398        Nagesh Kukunoor     Comedy, Crime, Romance               \n",
      "399        Nagesh Kukunoor     Comedy, Crime, Romance               \n",
      "400          Abhishek Jain             Comedy, Family               \n",
      "401          Abhishek Jain             Comedy, Family               \n",
      "402           A. Bhimsingh             Comedy, Family               \n",
      "403           A. Bhimsingh             Comedy, Family               \n",
      "404          Ram Mukherjee  Comedy, Romance, Thriller               \n",
      "405            Vimal Kumar  Comedy, Romance, Thriller               \n",
      "406            Vimal Kumar  Comedy, Romance, Thriller               \n",
      "407        Nagesh Kukunoor              Drama, Comedy               \n",
      "408        Nagesh Kukunoor              Drama, Comedy               \n",
      "409         Nikkhil Advani   Animation, Comedy, Drama               \n",
      "410         Nikkhil Advani   Animation, Comedy, Drama               \n",
      "411                   Brij             Comedy, Action               \n",
      "412                   Brij             Comedy, Action               \n",
      "413             Aspi Irani    Comedy, Musical, Action               \n",
      "414             Salim Raza    Comedy, Horror, Musical               \n",
      "\n",
      "                       Movie_Name    Year  \n",
      "0              Gangs of Wasseypur    2012  \n",
      "1              Gangs of Wasseypur    2012  \n",
      "2                       Blackmail  I 2018  \n",
      "3                       Blackmail  I 2018  \n",
      "4                      Hera Pheri    2000  \n",
      "5                  Singh Is Kinng    2008  \n",
      "6                  Singh Is Kinng    2008  \n",
      "7                         Deewana    1992  \n",
      "8                         Deewana    1992  \n",
      "9                      Hera Pheri    1976  \n",
      "10                     Hera Pheri    1976  \n",
      "11                     No Problem  I 2010  \n",
      "12                     No Problem  I 2010  \n",
      "13            Mr. White Mr. Black    2008  \n",
      "14            Mr. White Mr. Black    2008  \n",
      "15                  Gora Aur Kala    1972  \n",
      "16                  Gora Aur Kala    1972  \n",
      "17   My Name Is Anthony Gonsalves    2008  \n",
      "18   My Name Is Anthony Gonsalves    2008  \n",
      "19                         Mithya    2008  \n",
      "20                         Mithya    2008  \n",
      "21               English Vinglish    2012  \n",
      "22               English Vinglish    2012  \n",
      "23                Seeta Aur Geeta    1972  \n",
      "24                Seeta Aur Geeta    1972  \n",
      "25                     Bhoothnath    2008  \n",
      "26                     Khubsoorat    1980  \n",
      "27                     Khubsoorat    1980  \n",
      "28             Ferrari Ki Sawaari    2012  \n",
      "29             Ferrari Ki Sawaari    2012  \n",
      "..                            ...     ...  \n",
      "385                        Fatso!    2012  \n",
      "386                        Fatso!    2012  \n",
      "387            God Tussi Great Ho    2008  \n",
      "388            God Tussi Great Ho    2008  \n",
      "389                      Bawarchi    1972  \n",
      "390                      Bawarchi    1972  \n",
      "391                         Masti    2004  \n",
      "392                         Masti    2004  \n",
      "393                        Sunday  I 2008  \n",
      "394                        Sunday  I 2008  \n",
      "395                    C Kkompany    2008  \n",
      "396                   Apne Paraye    1980  \n",
      "397                   Apne Paraye    1980  \n",
      "398             Bombay to Bangkok    2008  \n",
      "399             Bombay to Bangkok    2008  \n",
      "400               Kevi Rite Jaish    2012  \n",
      "401               Kevi Rite Jaish    2012  \n",
      "402               Joroo Ka Ghulam    1972  \n",
      "403               Joroo Ka Ghulam    1972  \n",
      "404                        Leader    1964  \n",
      "405                 Chhote Sarkar    1996  \n",
      "406                 Chhote Sarkar    1996  \n",
      "407             Hyderabad Blues 2    2004  \n",
      "408             Hyderabad Blues 2    2004  \n",
      "409                  Delhi Safari    2012  \n",
      "410                  Delhi Safari    2012  \n",
      "411              Bombay 405 Miles    1980  \n",
      "412              Bombay 405 Miles    1980  \n",
      "413                  Garam Masala    1972  \n",
      "414                  Bach ke Zara    2008  \n",
      "\n",
      "[415 rows x 4 columns]\n"
     ]
    }
   ],
   "source": [
    "comedy = pd.read_sql_query(\"\"\"SELECT a.Name AS Directors, \n",
    "d.name AS Genre, \n",
    "e.title as Movie_Name, \n",
    "e.year as Year FROM Person a\n",
    "Inner Join M_director b\n",
    "ON a.PID =b.PID\n",
    "Inner Join M_Genre c\n",
    "ON c.ID = b.ID\n",
    "Inner Join Genre d\n",
    "ON d.GID= c.GID\n",
    "Inner Join Movie e\n",
    "ON e.MID = b.MID\n",
    "WHERE d.name LIKE '%Comedy%'AND (e.year%4=0) \"\"\",connection)\n",
    "\n",
    "\n",
    "print(comedy)\n",
    "\n"
   ]
  },
  {
   "cell_type": "markdown",
   "metadata": {},
   "source": [
    "**2) List the names of all the actors who played in the movie 'Anand' (1971)**"
   ]
  },
  {
   "cell_type": "markdown",
   "metadata": {},
   "source": [
    "# The Inner Join of M_cast and Person is returning no values, seems the dataset is incorrect"
   ]
  },
  {
   "cell_type": "code",
   "execution_count": 45,
   "metadata": {},
   "outputs": [
    {
     "name": "stdout",
     "output_type": "stream",
     "text": [
      "Empty DataFrame\n",
      "Columns: [Name]\n",
      "Index: []\n"
     ]
    }
   ],
   "source": [
    "Anand = pd.read_sql_query(\"\"\"SELECT a.NAME FROM Person a\n",
    "Inner Join M_cast b\n",
    "ON a.PID  = b.PID\n",
    "Inner Join Movie c\n",
    "ON c.MID = b.MID\n",
    "WHERE c.title LIKE '%Anand%'\"\"\",connection)\n",
    "\n",
    "print(Anand)\n",
    "\n"
   ]
  },
  {
   "cell_type": "markdown",
   "metadata": {},
   "source": [
    "**3) List all the actors who acted in a film before 1970 and in a film after 1990. (That is: < 1970\n",
    "and > 1990.)**"
   ]
  },
  {
   "cell_type": "code",
   "execution_count": 47,
   "metadata": {},
   "outputs": [
    {
     "name": "stdout",
     "output_type": "stream",
     "text": [
      "Empty DataFrame\n",
      "Columns: [Name]\n",
      "Index: []\n"
     ]
    }
   ],
   "source": [
    "Actors = pd.read_sql_query(\"\"\"SELECT a.NAME FROM Person a\n",
    "Inner Join M_cast b\n",
    "ON a.PID  = b.PID\n",
    "Inner Join Movie c\n",
    "ON c.MID = b.MID\n",
    "WHERE c.year NOT BETWEEN 1970 AND 1990\"\"\",connection)\n",
    "\n",
    "print(Actors)"
   ]
  },
  {
   "cell_type": "markdown",
   "metadata": {},
   "source": [
    "**4) List all directors who directed 10 movies or more, in descending order of the number of\n",
    "movies they directed. Return the directors' names and the number of movies each of them\n",
    "directed.**"
   ]
  },
  {
   "cell_type": "code",
   "execution_count": 55,
   "metadata": {},
   "outputs": [
    {
     "name": "stdout",
     "output_type": "stream",
     "text": [
      "                    Directors  Films\n",
      "0                David Dhawan     39\n",
      "1                David Dhawan     39\n",
      "2                Mahesh Bhatt     36\n",
      "3                Mahesh Bhatt     36\n",
      "4             Ram Gopal Varma     30\n",
      "5                Priyadarshan     30\n",
      "6             Ram Gopal Varma     30\n",
      "7                Vikram Bhatt     29\n",
      "8                Vikram Bhatt     29\n",
      "9        Hrishikesh Mukherjee     27\n",
      "10       Hrishikesh Mukherjee     27\n",
      "11                Yash Chopra     21\n",
      "12                Yash Chopra     21\n",
      "13            Basu Chatterjee     19\n",
      "14             Shakti Samanta     19\n",
      "15            Basu Chatterjee     19\n",
      "16             Shakti Samanta     19\n",
      "17               Subhash Ghai     18\n",
      "18               Subhash Ghai     18\n",
      "19   Abbas Alibhai Burmawalla     17\n",
      "20              Shyam Benegal     17\n",
      "21   Abbas Alibhai Burmawalla     17\n",
      "22          Rama Rao Tatineni     17\n",
      "23              Shyam Benegal     17\n",
      "24                     Gulzar     16\n",
      "25             Manmohan Desai     16\n",
      "26               Raj N. Sippy     16\n",
      "27                     Gulzar     16\n",
      "28             Manmohan Desai     16\n",
      "29               Raj N. Sippy     16\n",
      "..                        ...    ...\n",
      "58               Guddu Dhanoa     12\n",
      "59          Madhur Bhandarkar     12\n",
      "60            Nagesh Kukunoor     12\n",
      "61                Prakash Jha     12\n",
      "62              Prakash Mehra     12\n",
      "63               Rohit Shetty     12\n",
      "64             Satish Kaushik     12\n",
      "65                Umesh Mehra     12\n",
      "66               Anees Bazmee     12\n",
      "67                Anil Sharma     12\n",
      "68               Guddu Dhanoa     12\n",
      "69          Madhur Bhandarkar     12\n",
      "70            Nagesh Kukunoor     12\n",
      "71                Prakash Jha     12\n",
      "72              Prakash Mehra     12\n",
      "73               Rohit Shetty     12\n",
      "74             Satish Kaushik     12\n",
      "75                Umesh Mehra     12\n",
      "76            Govind Nihalani     11\n",
      "77                Ketan Mehta     11\n",
      "78                 Mohit Suri     11\n",
      "79              Nasir Hussain     11\n",
      "80         Pramod Chakravorty     11\n",
      "81               Sanjay Gupta     11\n",
      "82            Govind Nihalani     11\n",
      "83                Ketan Mehta     11\n",
      "84                 Mohit Suri     11\n",
      "85              Nasir Hussain     11\n",
      "86         Pramod Chakravorty     11\n",
      "87               Sanjay Gupta     11\n",
      "\n",
      "[88 rows x 2 columns]\n"
     ]
    }
   ],
   "source": [
    "Directors = pd.read_sql_query(\"\"\"SELECT Distinct a.Name AS Directors, count(c.MID) AS Films FROM Person a\n",
    "Inner Join M_director b\n",
    "ON a.PID =b.PID\n",
    "Inner Join Movie c\n",
    "ON b.MID = c.MID\n",
    "GROUP BY a.Name\n",
    "HAVING  COUNT(c.MID)>10\n",
    "ORDER BY Films DESC \"\"\",connection)\n",
    "\n",
    "print(Directors)"
   ]
  },
  {
   "cell_type": "markdown",
   "metadata": {},
   "source": [
    "**a.For each year, count the number of movies in that year that had only female actors.**\n",
    "\n",
    "**b. Now include a small change: report for each year the percentage of movies in that\n",
    "year with only female actors, and the total number of movies made that year. For\n",
    "example, one answer will be: 1990 31.81 13522 meaning that in 1990 there were\n",
    "13,522 movies, and 31.81% had only female actors. You do not need to round your\n",
    "answer.**"
   ]
  },
  {
   "cell_type": "markdown",
   "metadata": {},
   "source": [
    "**Find the film(s) with the largest cast. Return the movie title and the size of the cast. By \"cast\n",
    "size\" we mean the number of distinct actors that played in that movie: if an actor played\n",
    "multiple roles, or if it simply occurs multiple times in casts, we still count her/him only\n",
    "once.**"
   ]
  },
  {
   "cell_type": "markdown",
   "metadata": {},
   "source": [
    "**A decade is a sequence of 10 consecutive years. For example, say in your database you have\n",
    "movie information starting from 1965. Then the first decade is 1965, 1966, ..., 1974; the\n",
    "second one is 1967, 1968, ..., 1976 and so on. Find the decade D with the largest number of\n",
    "films and the total number of films in D.**"
   ]
  },
  {
   "cell_type": "markdown",
   "metadata": {},
   "source": [
    "**Find the actors that were never unemployed for more than 3 years at a stretch. (Assume\n",
    "that the actors remain unemployed between two consecutive movies).**"
   ]
  },
  {
   "cell_type": "markdown",
   "metadata": {},
   "source": [
    "**Find all the actors that made more movies with Yash Chopra than any other director.**"
   ]
  },
  {
   "cell_type": "markdown",
   "metadata": {},
   "source": [
    "**The Shahrukh number of an actor is the length of the shortest path between the actor and\n",
    "Shahrukh Khan in the \"co-acting\" graph. That is, Shahrukh Khan has Shahrukh number 0; all\n",
    "actors who acted in the same film as Shahrukh have Shahrukh number 1; all actors who\n",
    "acted in the same film as some actor with Shahrukh number 1 have Shahrukh number 2, etc.\n",
    "Return all actors whose Shahrukh number is 2.**"
   ]
  }
 ],
 "metadata": {
  "kernelspec": {
   "display_name": "Python 3",
   "language": "python",
   "name": "python3"
  },
  "language_info": {
   "codemirror_mode": {
    "name": "ipython",
    "version": 3
   },
   "file_extension": ".py",
   "mimetype": "text/x-python",
   "name": "python",
   "nbconvert_exporter": "python",
   "pygments_lexer": "ipython3",
   "version": "3.7.4"
  }
 },
 "nbformat": 4,
 "nbformat_minor": 2
}
